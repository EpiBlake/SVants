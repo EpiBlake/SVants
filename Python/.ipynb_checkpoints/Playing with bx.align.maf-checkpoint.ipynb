{
 "cells": [
  {
   "cell_type": "code",
   "execution_count": 1,
   "metadata": {
    "collapsed": true
   },
   "outputs": [],
   "source": [
    "import bx.align.maf"
   ]
  },
  {
   "cell_type": "code",
   "execution_count": 2,
   "metadata": {
    "collapsed": false
   },
   "outputs": [],
   "source": [
    "maf = bx.align.maf.Reader(open(\"/Users/bhanson/Documents/Data/StudyData/WGS/MinION/KPC/Combined_By_Sample/AllData/KPC_1ATB/KPC_1ATB_All_2D_Filtered_AlignedToGenome_withheader.maf\"))"
   ]
  },
  {
   "cell_type": "code",
   "execution_count": 3,
   "metadata": {
    "collapsed": false
   },
   "outputs": [
    {
     "name": "stdout",
     "output_type": "stream",
     "text": [
      "<bx.align.maf.Reader object at 0x103de6c90>\n"
     ]
    }
   ],
   "source": [
    "print maf"
   ]
  },
  {
   "cell_type": "code",
   "execution_count": 8,
   "metadata": {
    "collapsed": false
   },
   "outputs": [],
   "source": [
    "bl = maf.next()"
   ]
  },
  {
   "cell_type": "code",
   "execution_count": 9,
   "metadata": {
    "collapsed": false
   },
   "outputs": [],
   "source": [
    " def fetch_block_stats(block):\n",
    "        '''return required maf attributes'''\n",
    "        # calculate errors and total alignment length\n",
    "        errors = 0\n",
    "        total = 0\n",
    "        for base in block.column_iter():\n",
    "            if base[0] != base[1]:\n",
    "                errors += 1\n",
    "            total += 1\n",
    "\n",
    "        identity_match = total - errors\n",
    "        identity_percent = 100.0*(identity_match/float(total))\n",
    "        identity_length = total\n",
    "        e_value = float(block.attributes[\"fullScore\"])\n",
    "        \n",
    "        # fetch query attributes\n",
    "        query = block.components[1]\n",
    "        name = query.src\n",
    "        length = query._src_size\n",
    "        query_start = query.forward_strand_start\n",
    "        query_stop = query.forward_strand_end\n",
    "        direction = query.strand\n",
    "\n",
    "        # write alignment attributes\n",
    "        attr = [name, length, identity_match, identity_length,\n",
    "                round(identity_percent, 2), query_start, query_stop, \n",
    "                direction, e_value]\n",
    " \n",
    "        return attr"
   ]
  },
  {
   "cell_type": "code",
   "execution_count": 10,
   "metadata": {
    "collapsed": false
   },
   "outputs": [],
   "source": [
    "bl_attr = fetch_block_stats(bl)"
   ]
  },
  {
   "cell_type": "code",
   "execution_count": 11,
   "metadata": {
    "collapsed": false
   },
   "outputs": [
    {
     "name": "stdout",
     "output_type": "stream",
     "text": [
      "['f8a084a6-1487-40ed-a89a-68794079c234_Basecall_2D_000_2d', 11729, 1279, 1719, 74.4, 10209, 11706, '+', 1020.0]\n"
     ]
    }
   ],
   "source": [
    "print bl_attr"
   ]
  },
  {
   "cell_type": "code",
   "execution_count": 15,
   "metadata": {
    "collapsed": false
   },
   "outputs": [],
   "source": [
    "query = bl.components[1]"
   ]
  },
  {
   "cell_type": "code",
   "execution_count": 16,
   "metadata": {
    "collapsed": false
   },
   "outputs": [
    {
     "name": "stdout",
     "output_type": "stream",
     "text": [
      "f8a084a6-1487-40ed-a89a-68794079c234_Basecall_2D_000_2d\n"
     ]
    }
   ],
   "source": [
    "print query.src"
   ]
  },
  {
   "cell_type": "code",
   "execution_count": 17,
   "metadata": {
    "collapsed": false
   },
   "outputs": [
    {
     "name": "stdout",
     "output_type": "stream",
     "text": [
      "s f8a084a6-1487-40ed-a89a-68794079c234_Basecall_2D_000_2d 10209 1497 + 11729 CACCTCAAGCCGTCGCGGTAGG-ATACCCGTTACCGGATACCCC--GCACAGATCC-GGCGTGCTCCATTTA-GCACC---CTCCTGCCTCGG-TGTCTGGCGGTGAACC-CTCCACAGGCTCATGGAACGGAATGGCGTGA--CCT------CCATGCGG-TGCCAGTTTTGTTGCTTCCTTAC---T--TATCACTCCTCTTCTGGCTCCTGCGCTCGC-CGCCCGGCGCCAGTTATTT--TACGTGT--CCTGAACTTCTGCGACTGTGGGGAAGTTGCCCGGTACCGAGTGATAGTTCAGGTA-CCCTGAACCACTC--CTCCCCGGTTTTCCCTGTTCGGG-ATGCTATAATGCCATCTC-TTCG--GATCGT--TTG-TC-CT--CAG--TTCGCGTGAGTCGATCCCGGCGAGGTCTTTCGTATCAGCATGAACCTGCCGTTGCGATCTTTCC-GCTGAT---CGTGAACCC-AGGAAGTTGGAACGTT-CTGGTT-GCCTTT-CCCTTAACCG-AGAGTTTTCG-CAGCGAAGCGGCCGAATCCCCATCAGACGGGTGTTTCTCCGGGT-A--CGGG-GTCCGAACTCCCTCAGT--GCGCTGCAACCGGC----CCGAAGCGCCGGGCATCGTATCGTTTGTCGAACCCGATGACGATGTCATCGGC---TGTAACCATTACCACA-TGCCTGT---AAGGCGACGTCGCCAC-CCTGCCGCCCACAGATCGA--ATGTTGT-TA--CCTCTGTTTGCC-GCAGCGGTATGA--ACCGCACC--GT-GGCTG-CTTC--GCGTTGCTCG--AT-----CT-CTAGCACGTCCCGGCTGTGAGCCA--T-CG-ATGAGCC--CTTACCCCTCCGGTC-CCGTACCCATGCTCTGTG-ACC-GATCAGCCATTCGTGGC-C-CCCTGTCAAAG-ACTGACTGATGTCGGCAT------CCCAGTTGA-GTTACTGCGGTACCAGCCCTGTGGCCAGTGCGTCCAGTGCATCGTGCTGGCT--GCCC--GTATG-ACCTG-ATGAGAA-CCCATAAAGATCG-TTTC--AGAC-GGGTTCAGGATTTTCACCAGCGCATAC-GTA------TGT--T--AACGAACGGGATGCCCAGC-GGCGTTG---TCGATACCCCGTTGG--CGTAG----GCCACCC---CTGGG----GT--TTGGTCT--T-TAGGACT-CAGTGC-GATCTGTCTCTCTGTTGTTCTTCCGCTGTTCCCACCTTAGTCGGGC--CCT-CTGCCAGGC-CTCCGGGGAGCCGC-GTCATG-GCCCGGAGATCGAA-GC--TTTCCGTGAGCGTTAGACTTCGCTCCATAGCTGCGACCGTAC-GTAAACCG-TCTTTTGAACAAT-CGTCGCGACGGTCCC-----CTTG-C-GCCTCATGTG--ATTC-CGCACGGGAC--TGTCCCTAACAT-----GCT-TTCCGCGTCCGCATGTGGCCCCGCTCTGAGCCTTC-CTCCACTGACTCCGCTCCTTTC-GGTCG-TCGCCTGCTTCG-----AGGAGGGGCCTGAGT-CGACTT---CTCT-CGTACATCACATGGTA--ACTCCTCGTCTTCCC-TTGAG-------T-CG-CACTGGCAGATGGGTC--AGGGGAGA-ATCCCGGTTCCCTAGTAGAGATCGTATT---AAGCCGAGATCT-AG-CGCCGC\n"
     ]
    }
   ],
   "source": [
    "print query"
   ]
  },
  {
   "cell_type": "code",
   "execution_count": 18,
   "metadata": {
    "collapsed": true
   },
   "outputs": [],
   "source": [
    "ref = bl.components[0]"
   ]
  },
  {
   "cell_type": "code",
   "execution_count": 19,
   "metadata": {
    "collapsed": false
   },
   "outputs": [
    {
     "data": {
      "text/plain": [
       "158683"
      ]
     },
     "execution_count": 19,
     "metadata": {},
     "output_type": "execute_result"
    }
   ],
   "source": [
    "ref.forward_strand_start"
   ]
  },
  {
   "cell_type": "code",
   "execution_count": 20,
   "metadata": {
    "collapsed": false
   },
   "outputs": [
    {
     "data": {
      "text/plain": [
       "160360"
      ]
     },
     "execution_count": 20,
     "metadata": {},
     "output_type": "execute_result"
    }
   ],
   "source": [
    "ref.forward_strand_end"
   ]
  },
  {
   "cell_type": "code",
   "execution_count": 21,
   "metadata": {
    "collapsed": false
   },
   "outputs": [
    {
     "data": {
      "text/plain": [
       "'utg7180000000001'"
      ]
     },
     "execution_count": 21,
     "metadata": {},
     "output_type": "execute_result"
    }
   ],
   "source": [
    "ref.src"
   ]
  },
  {
   "cell_type": "code",
   "execution_count": null,
   "metadata": {
    "collapsed": true
   },
   "outputs": [],
   "source": []
  }
 ],
 "metadata": {
  "kernelspec": {
   "display_name": "Python 2",
   "language": "python",
   "name": "python2"
  },
  "language_info": {
   "codemirror_mode": {
    "name": "ipython",
    "version": 2
   },
   "file_extension": ".py",
   "mimetype": "text/x-python",
   "name": "python",
   "nbconvert_exporter": "python",
   "pygments_lexer": "ipython2",
   "version": "2.7.11"
  }
 },
 "nbformat": 4,
 "nbformat_minor": 0
}
